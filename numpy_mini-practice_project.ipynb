{
 "cells": [
  {
   "cell_type": "code",
   "execution_count": 44,
   "id": "d3a73eeb",
   "metadata": {},
   "outputs": [],
   "source": [
    "import numpy as np\n",
    "\n",
    "# Student scores dataset (rows = students, columns = subjects)\n",
    "# Columns: [Math, Science, English, History, Art]\n",
    "scores = np.array([\n",
    "    [78, 85, 90, 66, 59],\n",
    "    [92, 88, 95, 77, 72],\n",
    "    [63, 70, 65, 80, 75],\n",
    "    [88, 92, 94, 85, 83],\n",
    "    [70, 68, 75, 60, 55],\n",
    "    [82, 79, 88, 90, 91],\n",
    "    [56, 60, 55, 50, 45],\n",
    "    [90, 95, 98, 89, 84],\n",
    "])\n"
   ]
  },
  {
   "cell_type": "markdown",
   "id": "420891d3",
   "metadata": {},
   "source": [
    "## Basic Array Practice"
   ]
  },
  {
   "cell_type": "code",
   "execution_count": 45,
   "id": "9c6eccda",
   "metadata": {},
   "outputs": [
    {
     "name": "stdout",
     "output_type": "stream",
     "text": [
      "The shape of scores: (8, 5)\n",
      "The size of scores data: 40\n",
      "The dataype of scores: int64\n"
     ]
    }
   ],
   "source": [
    "# Q 1. Print the shape, size, and data type of scores.\n",
    "print(f\"The shape of scores: {scores.shape}\")\n",
    "print(f\"The size of scores data: {scores.size}\")\n",
    "print(f\"The dataype of scores: {scores.dtype}\")"
   ]
  },
  {
   "cell_type": "code",
   "execution_count": 46,
   "id": "a78897e1",
   "metadata": {},
   "outputs": [
    {
     "name": "stdout",
     "output_type": "stream",
     "text": [
      "All math scores are: \n",
      "[78 92 63 88 70 82 56 90]\n"
     ]
    }
   ],
   "source": [
    "#Q 2. Extract all Math scores (first column).\n",
    "print(f\"All math scores are: \\n{scores[:, 0]}\")"
   ]
  },
  {
   "cell_type": "code",
   "execution_count": 47,
   "id": "aafb26c7",
   "metadata": {},
   "outputs": [
    {
     "name": "stdout",
     "output_type": "stream",
     "text": [
      "The average English score is: 82.5\n",
      "The average English score is: 82.5\n"
     ]
    }
   ],
   "source": [
    "# Q 3. Find the average English score.\n",
    "avg = np.mean(scores[:,2])\n",
    "print(f\"The average English score is: {avg}\")\n",
    "print(f\"The average English score is: {np.mean(scores[:,2])}\")"
   ]
  },
  {
   "cell_type": "code",
   "execution_count": 48,
   "id": "0cc3def4",
   "metadata": {},
   "outputs": [
    {
     "name": "stdout",
     "output_type": "stream",
     "text": [
      "[[78. 85. 90. 66. nan]\n",
      " [92. 88. 95. 77. 72.]\n",
      " [63. 70. 65. 80. 75.]\n",
      " [88. 92. 94. 85. 83.]\n",
      " [70. 68. 75. 60. nan]\n",
      " [82. 79. 88. 90. 91.]\n",
      " [nan 60. nan nan nan]\n",
      " [90. 95. 98. 89. 84.]]\n"
     ]
    }
   ],
   "source": [
    "# Q 4. Replace any score below 60 with np.nan\n",
    "scores_float = scores.astype(float)\n",
    "scores_float[scores_float < 60] = np.nan \n",
    "print(scores_float)\n"
   ]
  },
  {
   "cell_type": "code",
   "execution_count": 49,
   "id": "7f717615",
   "metadata": {},
   "outputs": [
    {
     "name": "stdout",
     "output_type": "stream",
     "text": [
      "The number of null value in data: 6\n"
     ]
    }
   ],
   "source": [
    "# Q 5 Count how many scores are NaN\n",
    "print(f\"The number of null value in data: {np.isnan(scores_float).sum()}\")"
   ]
  },
  {
   "cell_type": "markdown",
   "id": "1dd5a282",
   "metadata": {},
   "source": [
    "## Array Operations"
   ]
  },
  {
   "cell_type": "code",
   "execution_count": 50,
   "id": "e3a9959e",
   "metadata": {},
   "outputs": [
    {
     "name": "stdout",
     "output_type": "stream",
     "text": [
      "Maths subject's Mean: 77.38 | Median: 80.00 | Standard Deviation: 12.38\n",
      "Science subject's Mean: 79.62 | Median: 82.00 | Standard Deviation: 11.74\n",
      "English subject's Mean: 82.50 | Median: 89.00 | Standard Deviation: 14.72\n",
      "History subject's Mean: 74.62 | Median: 78.50 | Standard Deviation: 13.60\n",
      "Art subject's Mean: 70.50 | Median: 73.50 | Standard Deviation: 15.02\n",
      "-------------------------------------------------------------------------------------------\n",
      "Math     -> Mean: 77.38 | Meadian: 80.00 | Standard Deviation: 12.38\n",
      "Science  -> Mean: 79.62 | Meadian: 82.00 | Standard Deviation: 11.74\n",
      "English  -> Mean: 82.50 | Meadian: 89.00 | Standard Deviation: 14.72\n",
      "History  -> Mean: 74.62 | Meadian: 78.50 | Standard Deviation: 13.60\n",
      "Art      -> Mean: 70.50 | Meadian: 73.50 | Standard Deviation: 15.02\n"
     ]
    }
   ],
   "source": [
    "# Q 6. Compute the mean, median, and standard deviation for each subject.\n",
    "#  [Math, Science, English, History, Art]\n",
    "math_mean = np.mean(scores[:,0])\n",
    "math_median = np.median(scores[:,0])\n",
    "math_SD = np.std(scores[:,0])\n",
    "print(f\"Maths subject's Mean: {math_mean:.2f} | Median: {math_median:.2f} | Standard Deviation: {math_SD:.2f}\")\n",
    "\n",
    "science_mean = np.mean(scores[:,1])\n",
    "science_median = np.median(scores[:,1])\n",
    "science_SD = np.std(scores[:,1])\n",
    "print(f\"Science subject's Mean: {science_mean:.2f} | Median: {science_median:.2f} | Standard Deviation: {science_SD:.2f}\")\n",
    "\n",
    "english_mean = np.mean(scores[:,2])\n",
    "english_median = np.median(scores[:,2])\n",
    "english_SD = np.std(scores[:,2])\n",
    "print(f\"English subject's Mean: {english_mean:.2f} | Median: {english_median:.2f} | Standard Deviation: {english_SD:.2f}\")\n",
    "\n",
    "history_mean = np.mean(scores[:,3])\n",
    "history_median = np.median(scores[:,3])\n",
    "history_SD = np.std(scores[:,3])\n",
    "print(f\"History subject's Mean: {history_mean:.2f} | Median: {history_median:.2f} | Standard Deviation: {history_SD:.2f}\")\n",
    "\n",
    "art_mean = np.mean(scores[:,4])\n",
    "art_median = np.median(scores[:,4])\n",
    "art_SD = np.std(scores[:,4])\n",
    "print(f\"Art subject's Mean: {art_mean:.2f} | Median: {art_median:.2f} | Standard Deviation: {art_SD:.2f}\")\n",
    "\n",
    "# ------------------- OR --------------------------------- \n",
    "print(\"-------------------------------------------------------------------------------------------\")\n",
    "\n",
    "subjects = [\"Math\", \"Science\", \"English\", \"History\", \"Art\"]\n",
    "for i, subject in enumerate(subjects):\n",
    "    print(f\"{subject:8s} -> Mean: {np.mean(scores[:,i]):.2f} | Meadian: {np.median(scores[:,i]):.2f} | Standard Deviation: {np.std(scores[:,i]):.2f}\")"
   ]
  },
  {
   "cell_type": "code",
   "execution_count": 51,
   "id": "5fd1ab69",
   "metadata": {},
   "outputs": [
    {
     "name": "stdout",
     "output_type": "stream",
     "text": [
      "The total score of each students are: [378 424 353 442 328 430 266 456]\n",
      "Highest total score of student is: 456\n",
      "Highest total score is 456 by student 8\n"
     ]
    }
   ],
   "source": [
    "# Q 7. Find the student with the highest total score.\n",
    "students_total_score = np.sum(scores, axis=1)\n",
    "print(f\"The total score of each students are: {students_total_score}\")\n",
    "highest_score_student = np.max(students_total_score)\n",
    "print(f\"Highest total score of student is: {highest_score_student}\")\n",
    "top_student_index = np.argmax(students_total_score)\n",
    "print(f\"Highest total score is {highest_score_student} by student {top_student_index + 1}\")"
   ]
  },
  {
   "cell_type": "code",
   "execution_count": 52,
   "id": "39779c1b",
   "metadata": {},
   "outputs": [
    {
     "name": "stdout",
     "output_type": "stream",
     "text": [
      "The normalize data (scale all values between 0 and 1) are: \n",
      "[[0.62 0.75 0.85 0.4  0.26]\n",
      " [0.89 0.81 0.94 0.6  0.51]\n",
      " [0.34 0.47 0.38 0.66 0.57]\n",
      " [0.81 0.89 0.92 0.75 0.72]\n",
      " [0.47 0.43 0.57 0.28 0.19]\n",
      " [0.7  0.64 0.81 0.85 0.87]\n",
      " [0.21 0.28 0.19 0.09 0.  ]\n",
      " [0.85 0.94 1.   0.83 0.74]] \n",
      "-------------------------------------------------------------------------------------------\n",
      "Normalization column wise: \n",
      "[[0.61 0.71 0.81 0.4  0.3 ]\n",
      " [1.   0.8  0.93 0.68 0.59]\n",
      " [0.19 0.29 0.23 0.75 0.65]\n",
      " [0.89 0.91 0.91 0.88 0.83]\n",
      " [0.39 0.23 0.47 0.25 0.22]\n",
      " [0.72 0.54 0.77 1.   1.  ]\n",
      " [0.   0.   0.   0.   0.  ]\n",
      " [0.94 1.   1.   0.98 0.85]]\n"
     ]
    }
   ],
   "source": [
    "# Q 8. Normalize the dataset (scale all values between 0 and 1)\n",
    "min_score = np.min(scores)\n",
    "max_score = np.max(scores)\n",
    "\n",
    "normalize_score = (scores - min_score) / (max_score - min_score)\n",
    "print(f\"The normalize data (scale all values between 0 and 1) are: \\n{np.round(normalize_score,2)} \")\n",
    "\n",
    "print(\"-------------------------------------------------------------------------------------------\")\n",
    "\n",
    "# More appropriate in data science ML preprocessing.\n",
    "norm_col = (scores - scores.min(axis=0)) / (scores.max(axis=0) - scores.min(axis=0))\n",
    "print(f\"Normalization column wise: \\n{np.round(norm_col,2)}\")"
   ]
  },
  {
   "cell_type": "code",
   "execution_count": 53,
   "id": "5fd589cb",
   "metadata": {},
   "outputs": [
    {
     "name": "stdout",
     "output_type": "stream",
     "text": [
      "The total score of each students are: \n",
      "[378 424 353 442 328 430 266 456]\n",
      "After adding 'Total' column in scores: \n",
      "[[ 78  85  90  66  59 378]\n",
      " [ 92  88  95  77  72 424]\n",
      " [ 63  70  65  80  75 353]\n",
      " [ 88  92  94  85  83 442]\n",
      " [ 70  68  75  60  55 328]\n",
      " [ 82  79  88  90  91 430]\n",
      " [ 56  60  55  50  45 266]\n",
      " [ 90  95  98  89  84 456]]\n"
     ]
    }
   ],
   "source": [
    "#Q 9. Add a new “Total” column using np.sum(axis=1).\n",
    "students_total_score = np.sum(scores, axis=1)\n",
    "print(f\"The total score of each students are: \\n{students_total_score}\")\n",
    "reshape_score = students_total_score.reshape(-1, 1)\n",
    "total_score_col = np.concatenate((scores, reshape_score),axis = 1)\n",
    "print(f\"After adding 'Total' column in scores: \\n{total_score_col}\")"
   ]
  },
  {
   "cell_type": "markdown",
   "id": "f9c2d29f",
   "metadata": {},
   "source": [
    "## Boolean Indexing"
   ]
  },
  {
   "cell_type": "code",
   "execution_count": 54,
   "id": "a89163b4",
   "metadata": {},
   "outputs": [
    {
     "name": "stdout",
     "output_type": "stream",
     "text": [
      "Students who scored above 85 in Science: [88 92 95] at index [1 3 7]\n",
      "------------------- OR --------------------------------------------\n",
      "Students (rows) who scored >85 in Science:\n",
      " [[92 88 95 77 72]\n",
      " [88 92 94 85 83]\n",
      " [90 95 98 89 84]]\n"
     ]
    }
   ],
   "source": [
    "#Q 10. Find students who scored above 85 in Science.\n",
    "science_student = scores[:,1] > 85\n",
    "score = scores[science_student,1]\n",
    "indice = np.where(scores[:,1] > 85)[0]\n",
    "print(f\"Students who scored above 85 in Science: {scores[science_student,1]} at index {indice}\")\n",
    "\n",
    "print(\"------------------- OR --------------------------------------------\")\n",
    "\n",
    "print(\"Students (rows) who scored >85 in Science:\\n\", scores[scores[:,1] > 85])\n"
   ]
  },
  {
   "cell_type": "code",
   "execution_count": 55,
   "id": "f737e09a",
   "metadata": {},
   "outputs": [
    {
     "name": "stdout",
     "output_type": "stream",
     "text": [
      "Average score of students are: [75.6 84.8 70.6 88.4 65.6 86.  53.2 91.2]\n",
      "Student who got average greater than 80 whose index are : [1 3 5 7]\n"
     ]
    }
   ],
   "source": [
    "# Q 11. Find students whose average score > 80.\n",
    "avg_score = np.mean(scores, axis = 1)\n",
    "student_avg = np.where(avg_score > 80)[0]\n",
    "print(f\"Average score of students are: {np.round(avg_score,2)}\")\n",
    "print(f\"Student who got average greater than 80 whose index are : {student_avg}\")"
   ]
  },
  {
   "cell_type": "code",
   "execution_count": 56,
   "id": "c9d50438",
   "metadata": {},
   "outputs": [
    {
     "name": "stdout",
     "output_type": "stream",
     "text": [
      "Data with missing values: \n",
      "[[78. 85. 90. 66. nan]\n",
      " [92. 88. 95. 77. 72.]\n",
      " [63. 70. 65. 80. 75.]\n",
      " [88. 92. 94. 85. 83.]\n",
      " [70. 68. 75. 60. nan]\n",
      " [82. 79. 88. 90. 91.]\n",
      " [nan 60. nan nan nan]\n",
      " [90. 95. 98. 89. 84.]]\n",
      "Data after filling missing values with subject mean: \n",
      "[[78.   85.   90.   66.   81.  ]\n",
      " [92.   88.   95.   77.   72.  ]\n",
      " [63.   70.   65.   80.   75.  ]\n",
      " [88.   92.   94.   85.   83.  ]\n",
      " [70.   68.   75.   60.   81.  ]\n",
      " [82.   79.   88.   90.   91.  ]\n",
      " [80.43 60.   86.43 78.14 81.  ]\n",
      " [90.   95.   98.   89.   84.  ]]\n",
      "\n",
      "---------------------- gpt version ---------------------------\n",
      "[[78.   85.   90.   66.   81.  ]\n",
      " [92.   88.   95.   77.   72.  ]\n",
      " [63.   70.   65.   80.   75.  ]\n",
      " [88.   92.   94.   85.   83.  ]\n",
      " [70.   68.   75.   60.   81.  ]\n",
      " [82.   79.   88.   90.   91.  ]\n",
      " [80.43 60.   86.43 78.14 81.  ]\n",
      " [90.   95.   98.   89.   84.  ]]\n"
     ]
    }
   ],
   "source": [
    "# Q 12. Replace all missing (np.nan) values with the subject mean.\n",
    "print(f\"Data with missing values: \\n{scores_float}\")\n",
    "avg_1 = np.nanmean(scores_float, axis = 0).round(2)\n",
    "indice = np.where(np.isnan(scores_float)) # give index of nan values in data\n",
    "scores_float[indice] = np.take(avg_1, indice[1]) # fill mean with corresponding columns of array\n",
    "print(f\"Data after filling missing values with subject mean: \\n{scores_float}\")\n",
    "\n",
    "print(\"\\n---------------------- gpt version ---------------------------\")\n",
    "\n",
    "col_means = np.nanmean(scores_float, axis=0)\n",
    "nan_rows, nan_cols = np.where(np.isnan(scores_float))\n",
    "scores_float[nan_rows, nan_cols] = col_means[nan_cols]\n",
    "print(scores_float)"
   ]
  },
  {
   "cell_type": "markdown",
   "id": "375f70bb",
   "metadata": {},
   "source": [
    "## Slicing and Broadcasting"
   ]
  },
  {
   "cell_type": "code",
   "execution_count": 57,
   "id": "e21dcd36",
   "metadata": {},
   "outputs": [
    {
     "name": "stdout",
     "output_type": "stream",
     "text": [
      "Data after increasing the art score by 5 points: \n",
      "[[78 85 90 66 64]\n",
      " [92 88 95 77 77]\n",
      " [63 70 65 80 80]\n",
      " [88 92 94 85 88]\n",
      " [70 68 75 60 60]\n",
      " [82 79 88 90 96]\n",
      " [56 60 55 50 50]\n",
      " [90 95 98 89 89]]\n"
     ]
    }
   ],
   "source": [
    "# Q 13. Increase all Art marks by 5 points using broadcasting.\n",
    "scores[:,4] += 5\n",
    "print(f\"Data after increasing the art score by 5 points: \\n{scores}\")"
   ]
  },
  {
   "cell_type": "code",
   "execution_count": 60,
   "id": "c7978ec0",
   "metadata": {},
   "outputs": [
    {
     "name": "stdout",
     "output_type": "stream",
     "text": [
      "After swapping columns: \n",
      "[[66 85 64 78 90]\n",
      " [77 88 77 92 95]\n",
      " [80 70 80 63 65]\n",
      " [85 92 88 88 94]\n",
      " [60 68 60 70 75]\n",
      " [90 79 96 82 88]\n",
      " [50 60 50 56 55]\n",
      " [89 95 89 90 98]]\n",
      "---------------------OR------------------\n",
      "[[64 85 78 90 66]\n",
      " [77 88 92 95 77]\n",
      " [80 70 63 65 80]\n",
      " [88 92 88 94 85]\n",
      " [60 68 70 75 60]\n",
      " [96 79 82 88 90]\n",
      " [50 60 56 55 50]\n",
      " [89 95 90 98 89]]\n"
     ]
    }
   ],
   "source": [
    "# Q 14. Swap the columns: make English first and Math last.\n",
    "# Columns: [Math, Science, English, History, Art\n",
    "scores[:,[0,1,2,3,4]] = scores[:,[2,1,3,4,0]]\n",
    "print(f\"After swapping columns: \\n{scores}\")\n",
    "\n",
    "print(\"---------------------OR------------------\")\n",
    "scores_swapped = scores[:, [2,1,3,4,0]]\n",
    "print(scores_swapped)"
   ]
  },
  {
   "cell_type": "code",
   "execution_count": 59,
   "id": "595c47df",
   "metadata": {},
   "outputs": [
    {
     "name": "stdout",
     "output_type": "stream",
     "text": [
      "Subset of the first 3 student and last 2 subject is: \n",
      "[[64 78]\n",
      " [77 92]\n",
      " [80 63]]\n"
     ]
    }
   ],
   "source": [
    "# Q 15. Create a subset of the first 3 students and last 2 subjects.\n",
    "scores_subset = scores[:3, 3:]\n",
    "print(f\"Subset of the first 3 student and last 2 subject is: \\n{scores_subset}\")"
   ]
  },
  {
   "cell_type": "code",
   "execution_count": null,
   "id": "cdc4d00c",
   "metadata": {},
   "outputs": [],
   "source": []
  }
 ],
 "metadata": {
  "kernelspec": {
   "display_name": "Python 3",
   "language": "python",
   "name": "python3"
  },
  "language_info": {
   "codemirror_mode": {
    "name": "ipython",
    "version": 3
   },
   "file_extension": ".py",
   "mimetype": "text/x-python",
   "name": "python",
   "nbconvert_exporter": "python",
   "pygments_lexer": "ipython3",
   "version": "3.11.3"
  }
 },
 "nbformat": 4,
 "nbformat_minor": 5
}
